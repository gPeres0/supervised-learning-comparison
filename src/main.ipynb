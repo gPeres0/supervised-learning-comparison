{
 "cells": [
  {
   "cell_type": "markdown",
   "id": "f378db07bb057f3a",
   "metadata": {},
   "source": [
    "# Comparação de Algoritmos de Aprendizado Supervisionado em Problemas de Classificação\n",
    "\n",
    "- Gabriel Peres de Souza\n",
    "- João Carlos dos Santos Correia\n",
    "- Rodrigo Macedo Júnior"
   ]
  },
  {
   "cell_type": "markdown",
   "id": "b79c86b82052caf1",
   "metadata": {},
   "source": [
    "## Importando bibliotecas"
   ]
  },
  {
   "cell_type": "code",
   "execution_count": null,
   "id": "cc7691a65d53079d",
   "metadata": {
    "collapsed": true
   },
   "outputs": [],
   "source": [
    "#     Importação das bibliotecas."
   ]
  },
  {
   "cell_type": "markdown",
   "id": "1ad3ca055f479c1e",
   "metadata": {},
   "source": [
    "## Carregamento dos Dados"
   ]
  },
  {
   "cell_type": "code",
   "execution_count": null,
   "id": "f59d6159b0ca0279",
   "metadata": {},
   "outputs": [],
   "source": [
    "#    Carregamento e descrição da base de dados."
   ]
  },
  {
   "cell_type": "markdown",
   "id": "6d9d77aa95cc594a",
   "metadata": {},
   "source": [
    "## Pré-processamento dos dados (se precisar)"
   ]
  },
  {
   "cell_type": "code",
   "execution_count": null,
   "id": "3f3b5ad87298db19",
   "metadata": {},
   "outputs": [],
   "source": [
    "# dados faltantes, transformação de dados categóricos em numéricos,\n",
    "# escalas diferentes, outliers, dados desbalanceados, dados duplicados ou inconsistentes, ..."
   ]
  },
  {
   "cell_type": "markdown",
   "id": "c300586fd72c861f",
   "metadata": {},
   "source": [
    "## Implementação dos algoritmos escolhidos"
   ]
  },
  {
   "cell_type": "code",
   "execution_count": null,
   "id": "739c61e727591b0f",
   "metadata": {},
   "outputs": [],
   "source": [
    "# Descrição dos Algoritmos"
   ]
  },
  {
   "cell_type": "markdown",
   "id": "6d8ac473d0631430",
   "metadata": {},
   "source": [
    "## 1º Algoritmo"
   ]
  },
  {
   "cell_type": "code",
   "execution_count": null,
   "id": "37d235f633bc4168",
   "metadata": {},
   "outputs": [],
   "source": [
    "# Implementação"
   ]
  },
  {
   "cell_type": "markdown",
   "id": "93994448e9657e11",
   "metadata": {},
   "source": [
    "## 2º Algorimo"
   ]
  },
  {
   "cell_type": "code",
   "execution_count": null,
   "id": "84f0ca97669f0c67",
   "metadata": {},
   "outputs": [],
   "source": [
    "# Implementação"
   ]
  },
  {
   "cell_type": "markdown",
   "id": "69c694b8a71c6f8f",
   "metadata": {},
   "source": [
    "# Avaliação dos Modelos com métricas e grafos"
   ]
  },
  {
   "cell_type": "code",
   "execution_count": null,
   "id": "3faadf3c36876ad6",
   "metadata": {},
   "outputs": [],
   "source": [
    "# Lembre-se de utilizar validação cruzada para divisão\n",
    "# do conjunto de dados e métricas adequadas ao problema de classificação."
   ]
  },
  {
   "cell_type": "markdown",
   "id": "8c8ccb0669181efc",
   "metadata": {},
   "source": [
    "# Discussão dos resultados"
   ]
  },
  {
   "cell_type": "code",
   "execution_count": null,
   "id": "22c09fdca13047fc",
   "metadata": {},
   "outputs": [],
   "source": [
    "# Discussão"
   ]
  },
  {
   "cell_type": "markdown",
   "id": "5ca6feec",
   "metadata": {},
   "source": [
    "## Metodologia\n",
    "\n",
    "**Algoritmos utilizados.** Implementamos dois classificadores:\n",
    "\n",
    "1. **Regressão Logística treinada por Gradiente Descendente (SGDClassifier, loss='log\\_loss')** — método linear, eficiente para bases grandes e ruidosas.\n",
    "2. **k-Vizinhos Mais Próximos (k-NN)** — algoritmo não paramétrico que captura relações locais. Avaliamos diferentes valores de *k* e métrica de distância.\n",
    "\n",
    "**Engenharia de atributos.** A partir de `Date` e `Time`, extraímos: ano, mês, dia, dia da semana, dia do ano, hora, minuto, minutos desde meia-noite e indicador de fim de semana; além de `Count`. O alvo é `Event` (0/1).\n",
    "\n",
    "**Validação e métricas.** Usamos **validação cruzada k-fold com (k=10)** para uma análise mais precisa e profunda. Relatamos **Acurácia**, **Precisão**, **Sensibilidade (Recall)**, **F1**, **ROC** e **AUC**."
   ]
  },
  {
   "cell_type": "markdown",
   "id": "604ff981",
   "metadata": {},
   "source": [
    "### Execução (scripts externos)\n",
    "\n",
    "- `sgd_logreg.py`: análise com regressão logística (SGD)\n",
    "- `knn_model.py`: análise com KNN (grid reduzido)\n",
    "- `test_models.py`: roda tudo e salva JSONs\n",
    "- `compare_plots.py`: gráficos comparativos (barras e ROC)\n",
    "\n",
    "Artefatos em `/data`."
   ]
  },
  {
   "cell_type": "code",
   "execution_count": null,
   "id": "d4642177",
   "metadata": {},
   "outputs": [],
   "source": [
    "%run /mnt/data/test_models.py\n",
    "%run /mnt/data/compare_plots.py"
   ]
  },
  {
   "cell_type": "code",
   "execution_count": null,
   "id": "38bba32d",
   "metadata": {},
   "outputs": [],
   "source": [
    "import json, pandas as pd\n",
    "from IPython.display import Image, display\n",
    "with open('/mnt/data/sgd_results.json') as f: sgd=json.load(f)\n",
    "with open('/mnt/data/knn_results.json') as f: knn=json.load(f)\n",
    "metrics=['accuracy','precision','recall','f1','roc_auc']\n",
    "df=pd.DataFrame({'SGD (Logistic)':[sgd['metrics_point_on_full'][m] for m in metrics], 'KNN':[knn['metrics_point_on_full'][m] for m in metrics]}, index=metrics)\n",
    "display(df.style.format('{:.4f}'))\n",
    "display(Image(filename='/mnt/data/metrics_comparison.png'))\n",
    "display(Image(filename='/mnt/data/roc_both.png'))"
   ]
  }
 ],
 "metadata": {
  "kernelspec": {
   "display_name": "Python 3",
   "language": "python",
   "name": "python3"
  },
  "language_info": {
   "codemirror_mode": {
    "name": "ipython",
    "version": 2
   },
   "file_extension": ".py",
   "mimetype": "text/x-python",
   "name": "python",
   "nbconvert_exporter": "python",
   "pygments_lexer": "ipython2",
   "version": "3.12.3"
  }
 },
 "nbformat": 4,
 "nbformat_minor": 5
}
