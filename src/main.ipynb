{
  "cells": [
    {
      "cell_type": "markdown",
      "id": "f378db07bb057f3a",
      "metadata": {},
      "source": [
        "# Comparação de Algoritmos de Aprendizado Supervisionado em Problemas de Classificação\n",
        "\n",
        "- Gabriel Peres de Souza\n",
        "- João Carlos dos Santos Correia\n",
        "- Rodrigo Macedo Silva Junior"
      ]
    },
    {
      "cell_type": "markdown",
      "id": "b79c86b82052caf1",
      "metadata": {},
      "source": [
        "## Importando bibliotecas"
      ]
    },
    {
      "cell_type": "code",
      "execution_count": null,
      "id": "cc7691a65d53079d",
      "metadata": {
        "deletable": false,
        "editable": true
      },
      "outputs": [],
      "source": [
        "# Importação das bibliotecas\n",
        "import os, json, math, pprint, pathlib\n",
        "import numpy as np\n",
        "import pandas as pd\n",
        "from IPython.display import display, Image, Markdown\n",
        "# módulos do projeto\n",
        "import importlib, sys\n",
        "sys.path.append('/mnt/data')  # garante import local\n",
        "import sgd_logreg\n",
        "import knn_model\n",
        "import compare_plots\n",
        "print(\"Versões:\", {\"pandas\": pd.__version__})\n"
      ]
    },
    {
      "cell_type": "markdown",
      "id": "1ad3ca055f479c1e",
      "metadata": {},
      "source": [
        "## Carregamento dos Dados\n",
        "O conjunto de dados utilizado neste estudo é o **\"Dodgers Loop Sensor\"**, obtido do repositório da UCI Machine Learning. O objetivo central é a classificação de dias em que ocorreram jogos de beisebol do time Dodgers, em Los Angeles, com base em dados de um sensor de contagem de veículos.\n",
        "\n",
        "Os dados foram coletados por um sensor de laço indutivo em uma rampa de acesso para uma rodovia, estrategicamente posicionada para capturar um sinal de tráfego sutil, que se manifesta principalmente como um aumento no fluxo de veículos ao final das partidas. As medições foram agregadas a cada 5 minutos ao longo de 25 semanas, resultando em um dataset rico para a análise de anomalias no fluxo de tráfego."
      ]
    },
    {
      "cell_type": "code",
      "execution_count": null,
      "id": "f59d6159b0ca0279",
      "metadata": {
        "deletable": false,
        "editable": true
      },
      "outputs": [],
      "source": [
        "# Carregamento e descrição da base de dados\n",
        "data_dir = pathlib.Path(\"data\")\n",
        "data_dir.mkdir(exist_ok=True)\n",
        "\n",
        "processed_csv = data_dir / \"Dodgers_processed.csv\"\n",
        "raw_data = data_dir / \"Dodgers_data.csv\"\n",
        "raw_events = data_dir / \"Dodgers_events.csv\"\n",
        "\n",
        "if not processed_csv.exists():\n",
        "    if raw_data.exists() and raw_events.exists():\n",
        "        # Executa o pré-processamento para gerar o CSV final\n",
        "        %run /mnt/data/process_data.py\n",
        "    else:\n",
        "        print(\"⚠️ Arquivos brutos não encontrados em ./data/.\")\n",
        "        print(\"Esperado: data/Dodgers_data.csv e data/Dodgers_events.csv\")\n",
        "        print(\"Cole-os em data/ e re-execute esta célula.\")\n",
        "\n",
        "if processed_csv.exists():\n",
        "    df = pd.read_csv(processed_csv)\n",
        "    display(Markdown(f\"**Amostra do dataset processado ({len(df)} linhas):**\"))\n",
        "    display(df.head(10))\n",
        "    # Distribuição da variável alvo\n",
        "    display(Markdown(\"**Distribuição da coluna `Event` (alvo):**\"))\n",
        "    display(df['Event'].value_counts().rename({0:'Não-evento',1:'Evento'}).to_frame('contagem'))\n"
      ]
    },
    {
      "cell_type": "markdown",
      "id": "6d9d77aa95cc594a",
      "metadata": {},
      "source": [
        "## Pré-processamento dos dados (se precisar)"
      ]
    },
    {
      "cell_type": "code",
      "execution_count": null,
      "id": "3f3b5ad87298db19",
      "metadata": {
        "deletable": false,
        "editable": true
      },
      "outputs": [],
      "source": [
        "# Checagens rápidas de qualidade dos dados\n",
        "if 'df' in globals():\n",
        "    missing = df.isna().sum()\n",
        "    display(Markdown(\"**Valores ausentes por coluna:**\"))\n",
        "    display(missing[missing>0].to_frame('NA'))\n",
        "    display(Markdown(\"**Estatísticas descritivas básicas:**\"))\n",
        "    display(df.describe(include='all'))\n"
      ]
    },
    {
      "cell_type": "markdown",
      "id": "c300586fd72c861f",
      "metadata": {},
      "source": [
        "## Implementação dos algoritmos escolhidos\n",
        "Para este problema de classificação, foram selecionados dois algoritmos de aprendizado supervisionado com abordagens distintas para a criação de fronteiras de decisão: a Regressão Logística, implementada com o otimizador Gradiente Descendente Estocástico (SGD), e o k-Vizinhos Mais Próximos (k-NN). O objetivo é comparar seus desempenhos e determinar qual modelo é mais eficaz para detectar os eventos de interesse."
      ]
    },
    {
      "cell_type": "code",
      "execution_count": null,
      "id": "739c61e727591b0f",
      "metadata": {
        "deletable": false,
        "editable": true
      },
      "outputs": [],
      "source": [
        "# Descrição dos Algoritmos (sumário rápido)\n",
        "print(\"Modelos utilizados:\")\n",
        "print(\"- Regressão Logística via SGD (sgd_logreg.evaluate_sgd)\")\n",
        "print(\"- k-Nearest Neighbors (knn_model.evaluate_knn)\")\n"
      ]
    },
    {
      "cell_type": "markdown",
      "id": "6d8ac473d0631430",
      "metadata": {},
      "source": [
        "## 1º Algoritmo\n",
        "\n",
        "### Regressão Logística (treinada com Gradiente Descendente Estocástico)\n",
        "\n",
        "A Regressão Logística é um modelo linear que calcula diretamente a probabilidade de uma instância pertencer à classe positiva. Isso é feito através da função sigmoide, que mapeia qualquer valor real para o intervalo entre 0 e 1.\n",
        "\n",
        "Neste trabalho, os parâmetros do modelo são otimizados utilizando o **Gradiente Descendente Estocástico (SGD)**, um método eficiente para minimizar a função de perda logística (entropia cruzada)."
      ]
    },
    {
      "cell_type": "code",
      "execution_count": null,
      "id": "37d235f633bc4168",
      "metadata": {
        "deletable": false,
        "editable": true
      },
      "outputs": [],
      "source": [
        "# Treino/Avaliação: Regressão Logística (SGD)\n",
        "sgd_json_path = \"data/sgd_results.json\"\n",
        "if not pathlib.Path(sgd_json_path).exists():\n",
        "    if not (pathlib.Path(\"data/Dodgers_processed.csv\").exists()):\n",
        "        raise FileNotFoundError(\"data/Dodgers_processed.csv não encontrado. Gere-o na célula de dados.\")\n",
        "    res_sgd = sgd_logreg.evaluate_sgd(\n",
        "        csv_path=\"data/Dodgers_processed.csv\",\n",
        "        cv_splits=10,\n",
        "        random_state=42,\n",
        "        output_prefix=\"data/sgd\"\n",
        "    )\n",
        "    print(\"Resultados SGD salvos em\", sgd_json_path)\n",
        "else:\n",
        "    with open(sgd_json_path, \"r\", encoding=\"utf-8\") as f:\n",
        "        res_sgd = json.load(f)\n",
        "    print(\"Resultados SGD carregados de\", sgd_json_path)\n",
        "# mostra métricas médias de CV se disponíveis\n",
        "if \"metricas_media_cv\" in res_sgd:\n",
        "    display(pd.DataFrame(res_sgd[\"metricas_media_cv\"], index=[\"SGD\"]).T)\n"
      ]
    },
    {
      "cell_type": "markdown",
      "id": "93994448e9657e11",
      "metadata": {},
      "source": [
        "## 2º Algorimo\n",
        "\n",
        "### k-Vizinhos Mais Próximos (k-NN)\n",
        "\n",
        "O k-NN é um algoritmo de aprendizado baseado em instâncias, também conhecido como \"lazy learner\", pois não constrói um modelo explícito durante o treinamento.\n",
        "\n",
        "Para classificar uma nova amostra, o k-NN calcula sua distância em relação a todas as amostras de treino. Em seguida, ele seleciona os *k* vizinhos mais próximos e a classificação é definida pela classe majoritária entre eles (votação). A eficácia do algoritmo depende criticamente da escolha do hiperparâmetro *k* e da métrica de distância utilizada (neste estudo, a distância Euclidiana)."
      ]
    },
    {
      "cell_type": "code",
      "execution_count": null,
      "id": "84f0ca97669f0c67",
      "metadata": {
        "deletable": false,
        "editable": true
      },
      "outputs": [],
      "source": [
        "# Treino/Avaliação: k-Nearest Neighbors (KNN)\n",
        "knn_json_path = \"data/knn_results.json\"\n",
        "if not pathlib.Path(knn_json_path).exists():\n",
        "    if not (pathlib.Path(\"data/Dodgers_processed.csv\").exists()):\n",
        "        raise FileNotFoundError(\"data/Dodgers_processed.csv não encontrado. Gere-o na célula de dados.\")\n",
        "    res_knn = knn_model.evaluate_knn(\n",
        "        csv_path=\"data/Dodgers_processed.csv\",\n",
        "        cv_splits=10,\n",
        "        output_prefix=\"data/knn\"\n",
        "    )\n",
        "    print(\"Resultados KNN salvos em\", knn_json_path)\n",
        "else:\n",
        "    with open(knn_json_path, \"r\", encoding=\"utf-8\") as f:\n",
        "        res_knn = json.load(f)\n",
        "    print(\"Resultados KNN carregados de\", knn_json_path)\n",
        "# mostra melhores hiperparâmetros\n",
        "if \"melhores_parametros\" in res_knn:\n",
        "    display(pd.DataFrame([res_knn[\"melhores_parametros\"]]))\n"
      ]
    },
    {
      "cell_type": "markdown",
      "id": "69c694b8a71c6f8f",
      "metadata": {},
      "source": [
        "# Avaliação dos Modelos com métricas e grafos\n",
        "\n",
        "Para garantir que a avaliação do desempenho dos modelos seja robusta e generalize bem para dados não vistos, foi utilizada a técnica de **validação cruzada k-fold estratificada com k=10**.\n",
        "\n",
        "O desempenho foi medido utilizando um conjunto abrangente de métricas derivadas da matriz de confusão, conforme trabalhado em aula:\n",
        "- **Acurácia**: Percentual total de classificações corretas.\n",
        "- **Precisão**: Dentre todas as previsões de \"evento\", quantas estavam corretas.\n",
        "- **Revocação (Recall)**: De todos os \"eventos\" reais, quantos o modelo conseguiu identificar.\n",
        "- **F1-Score**: Média harmônica entre precisão e revocação, útil para dados desbalanceados.\n",
        "- **Curva ROC e AUC**: A Área Sob a Curva ROC (AUC) mede a capacidade do modelo de distinguir entre as classes, independentemente do limiar de classificação."
      ]
    },
    {
      "cell_type": "code",
      "execution_count": null,
      "id": "3faadf3c36876ad6",
      "metadata": {
        "deletable": false,
        "editable": true
      },
      "outputs": [],
      "source": [
        "# Avaliação conjunta e geração de gráficos\n",
        "with open(\"data/sgd_results.json\",\"r\",encoding=\"utf-8\") as f: sgd_res = json.load(f)\n",
        "with open(\"data/knn_results.json\",\"r\",encoding=\"utf-8\") as f: knn_res = json.load(f)\n",
        "\n",
        "# Tabela comparativa (mesmas chaves usadas no JSON)\n",
        "metricas = ['acurácia','precisão','revocação','f1','roc_auc']\n",
        "df_cmp = pd.DataFrame({\n",
        "    \"SGD (Regressão Logística)\": [sgd_res['metricas_ponto_no_conjunto'][m] for m in metricas],\n",
        "    \"KNN\": [knn_res['metricas_ponto_no_conjunto'][m] for m in metricas],\n",
        "}, index=metricas)\n",
        "display(df_cmp.style.format('{:.4f}'))\n",
        "\n",
        "# Gráficos\n",
        "compare_plots.plot_bar_compare(sgd_res, knn_res, outpath='data/metrics_comparison.png')\n",
        "compare_plots.plot_roc_both(sgd_res, knn_res, outpath='data/roc_both.png')\n",
        "display(Image(filename='data/metrics_comparison.png'))\n",
        "display(Image(filename='data/roc_both.png'))\n"
      ]
    },
    {
      "cell_type": "markdown",
      "id": "8c8ccb0669181efc",
      "metadata": {},
      "source": [
        "# Discussão dos resultados\n",
        "### Análise e Discussão dos Resultados\n",
        "\n",
        "A análise comparativa dos modelos revelou uma clara superioridade do k-NN para este problema de classificação.\n",
        "\n",
        "#### Desempenho Geral\n",
        "O modelo **k-NN demonstrou ser superior em quase todas as métricas**, incluindo acurácia (97,37%), precisão (78,44%), f1-score (75,92%) e AUC (0.980). Em contraste, a Regressão Logística (SGD) obteve um desempenho notavelmente inferior na maioria dessas métricas, embora tenha apresentado uma revocação mais alta.\n",
        "\n",
        "#### Análise do k-NN\n",
        "Com a configuração otimizada de **k=5** e utilizando a distância Euclidiana, o k-NN provou ser um classificador não apenas preciso, mas também bem balanceado. Suas métricas de precisão e revocação (73,55%) são equilibradas, o que o torna um modelo robusto e confiável para a aplicação prática de detecção de eventos. A análise da matriz de confusão mostra que ele classificou corretamente a grande maioria das instâncias, com um número baixo de falsos positivos e falsos negativos.\n",
        "\n",
        "#### Análise da Regressão Logística (SGD)\n",
        "O modelo de Regressão Logística apresentou um comportamento desequilibrado. Embora tenha alcançado uma **revocação altíssima de 87,18%**, identificando a maioria dos jogos que realmente ocorreram, isso veio ao custo de uma **precisão extremamente baixa de apenas 14,06%**. Na prática, isso significa que o modelo gerou um número excessivo de alarmes falsos (15.129 falsos positivos), o que limita severamente sua utilidade em um cenário real onde o custo de um falso alarme é relevante. O baixo f1-score (24,22%) reflete essa falta de equilíbrio.\n",
        "\n",
        "#### Conclusão da Análise\n",
        "A Curva ROC confirma a superioridade do k-NN, que obteve um **AUC de 0.980**, muito próximo do ideal 1.0, indicando uma excelente capacidade de discriminação entre as classes. O SGD, com um AUC de 0.814, embora bom, foi significativamente inferior\n",
        "\n",
        "Conclui-se que a capacidade do **k-NN de capturar padrões locais e não lineares nos dados foi fundamental para seu sucesso**. A Regressão Logística, por ser um modelo linear, não conseguiu modelar a complexa relação entre o fluxo de tráfego e a ocorrência de jogos com a mesma eficácia."
      ]
    },
    {
      "cell_type": "markdown",
      "id": "f99b1185",
      "metadata": {},
      "source": [
        "## Metodologia\n",
        " \n",
        "Nesta seção, detalhamos o processo adotado para comparar algoritmos de classificação supervisionada, com foco em Regressão Logística (SGD) e k-Vizinhos Mais Próximos (k-NN). O objetivo é avaliar o desempenho dos modelos em um conjunto de dados real, utilizando validação rigorosa e métricas variadas.\n",
        " \n",
        "**Algoritmos utilizados:**\n",
        "- **Regressão Logística (SGDClassifier, loss='log_loss')**: Algoritmo linear, eficiente para grandes volumes de dados e robusto a ruídos. Utiliza gradiente descendente estocástico para otimização.\n",
        "- **k-Vizinhos Mais Próximos (k-NN)**: Algoritmo não paramétrico que considera a proximidade entre exemplos para realizar a classificação. Foram testados diferentes valores de *k* e métricas de distância para encontrar a melhor configuração.\n",
        " \n",
        "**Engenharia de atributos:**\n",
        "A partir das variáveis originais `Date` e `Time`, foram extraídos diversos atributos temporais: ano, mês, dia, dia da semana, dia do ano, hora, minuto, minutos desde meia-noite e indicador de fim de semana. O atributo `Count` foi mantido, e o alvo de classificação é o evento `Event` (binário: 0/1).\n",
        " \n",
        "**Validação e métricas:**\n",
        "Para garantir uma avaliação robusta, foi utilizada **validação cruzada k-fold (k=10)**, permitindo estimativas mais confiáveis do desempenho dos modelos. As métricas reportadas incluem:\n",
        "- **Acurácia**: Proporção de acertos totais.\n",
        "- **Precisão**: Proporção de positivos previstos que são realmente positivos.\n",
        "- **Sensibilidade (Recall)**: Proporção de positivos reais corretamente identificados.\n",
        "- **F1-score**: Média harmônica entre precisão e recall.\n",
        "- **ROC e AUC**: Curva ROC e área sob a curva, avaliando a capacidade de separação dos modelos."
      ]
    },
    {
      "cell_type": "markdown",
      "id": "5ca6feec",
      "metadata": {},
      "source": [
        "## Descrição detalhada dos dados\n",
        "O conjunto de dados empregado neste estudo é o ”Dodgers Loop Sensor”, proveniente do repositório UCI Machine Learning [Askitis 2010]. O objetivo central é a predicão da ocorrência de jogos de beisebol do time Dodgers com base em anomalias no fluxo de tráfego.\n",
        "\n",
        "Os dados consistem em medições de contagem de veículos, coletadas por um sensor de laço indutivo localizado em uma rampa de acesso para a rodovia 101 Norte em Los Angeles. As observações foram registradas continuamente ao longo de 25 semanas, com agregações a cada 5 minutos, totalizando 288 medições diárias. O sensor foi estrategicamente posicionado próximo ao estádio, permitindo a captura de um sinal de tráfego sutil — mas não óbvio — que se manifesta principalmente ao final das partidas, quando os espectadores deixam o local.\n",
        "\n",
        "A princípio, os dados da UCI se mostraram \"crus\" para o objetivo do trabalho, sendo necessário um tratamento minicioso. Os arquivos e script utilizado para o tratamento dos dados utilizados são descritos a seguir:\n",
        "##### raw_data/\n",
        "Pasta com arquivos referentes à base de dados sem qualquer tratamento.\n",
        "- **Dodgers.data:** conjunto de dados que representa a medição, pelo sensor de loop, de carros passando na rampa de acesso para a Rodovia 101 Norte. As medições contêm data, horário e contagem de carros capturados no momento.\n",
        "- **Dodgers.event:** conjunto de dados que representa os jogos do Dodgers entre 12/04/2005 e 29/09/2005. Cada linha representa data, horário de início do jogo, horário de fim do jogo, número de torcedores que compareceram ao evento, time adversário e resultado do jogo (Won/Lost e pontuação).\n",
        "- **Dodgers.name:** explicação geral dos datasets, com informações como número de observações, formatação dos dados e notas importantes.\n",
        "- **dodgers+loop+sensor.zip:** arquivo zip com todos os datasets iniciais.\n",
        "\n",
        "##### Dodgers_data.csv\n",
        "CSV com os dados de Dodgers.data devidamente tratados. Foi utilizado como base para a criação do arquivo de dados principal *(Dodgers_processed.csv)*.\n",
        "\n",
        "##### Dodgers_events.csv\n",
        "CSV com os dados de Dodgers.events tratados. Foi utilizado para monitorar o desempenho dos modelos, comparando as medições marcadas como evento (1) com os jogos presentes no arquivo. \n",
        "\n",
        "##### Dodgers_processed.csv\n",
        "Dataset principal do projeto. De modo geral, é constituído pelo arquivo Dodger_data.csv com um coluna extra, marcando as medições realizadas (1) ou não (0) durante a ocorrência de um jogo do Dodgers.\n",
        "\n",
        "##### process_data.py\n",
        "Script de tratamento dos dados. As alterações principais realizadas foram:\n",
        "1. Tratamento de valores -1 para a contagem de carros. Para resolver isso, foi feita a média aritmética dos 4 valores válidos mais próximos.\n",
        "2. Adição da coluna booleana 'Event', simbolizando se tal medição foi feita durante a duração de um jogo ou não.  "
      ]
    },
    {
      "cell_type": "markdown",
      "id": "604ff981",
      "metadata": {},
      "source": [
        "## Execução dos scripts\n",
        " \n",
        "- `sgd_logreg.py`: executa a análise com regressão logística (SGD)\n",
        "- `knn_model.py`: executa a análise com KNN (grid reduzido)\n",
        "- `test_models.py`: executa ambos e salva os resultados em JSON\n",
        "- `compare_plots.py`: gera gráficos comparativos (barras e ROC)\n",
        " \n",
        "Os dados gerados ficam em `data/`."
      ]
    },
    {
      "cell_type": "code",
      "execution_count": null,
      "id": "38bba32d",
      "metadata": {
        "deletable": false,
        "editable": true
      },
      "outputs": [],
      "source": [
        "import os\n",
        "if os.path.exists('data/metrics_comparison.png'):\n",
        "    display(Image(filename='data/metrics_comparison.png'))\n",
        "if os.path.exists('data/roc_both.png'):\n",
        "    display(Image(filename='data/roc_both.png'))\n"
      ]
    },
    {
      "cell_type": "code",
      "execution_count": null,
      "id": "7aae8a00",
      "metadata": {
        "deletable": false,
        "editable": true
      },
      "outputs": [],
      "source": [
        "# Carrega e exibe a comparação dos resultados dos modelos\n",
        "import json, pandas as pd\n",
        "from IPython.display import Image, display\n",
        "with open('data/sgd_results.json','r',encoding='utf-8') as f: sgd=json.load(f)\n",
        "with open('data/knn_results.json','r',encoding='utf-8') as f: knn=json.load(f)\n",
        "metricas=['acurácia','precisão','revocação','f1','roc_auc']\n",
        "df=pd.DataFrame({\n",
        "    'SGD (Regressão Logística)':[sgd['metricas_ponto_no_conjunto'][m] for m in metricas],\n",
        "    'KNN':[knn['metricas_ponto_no_conjunto'][m] for m in metricas]\n",
        "}, index=metricas)\n",
        "display(df.style.format('{:.4f}'))\n",
        "display(Image(filename='data/metrics_comparison.png'))\n",
        "display(Image(filename='data/roc_both.png'))\n"
      ]
    }
  ],
  "metadata": {
    "completed_by": {
      "assistant": "Filled missing implementations on 2025-10-05 14:46:34.183795"
    },
    "kernelspec": {
      "display_name": "Python 3",
      "language": "python",
      "name": "python3"
    },
    "language_info": {
      "codemirror_mode": {
        "name": "ipython",
        "version": 2
      },
      "file_extension": ".py",
      "mimetype": "text/x-python",
      "name": "python",
      "nbconvert_exporter": "python",
      "pygments_lexer": "ipython2",
      "version": "3.12.3"
    }
  },
  "nbformat": 4,
  "nbformat_minor": 5
}
