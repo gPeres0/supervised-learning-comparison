{
 "cells": [
  {
   "cell_type": "markdown",
   "id": "f378db07bb057f3a",
   "metadata": {},
   "source": [
    "# Comparação de Algoritmos de Aprendizado Supervisionado em Problemas de Classificação\n",
    "\n",
    "- Gabriel Peres de Souza\n",
    "- João Carlos dos Santos Correia\n",
    "- Rodrigo Macedo Júnior"
   ]
  },
  {
   "cell_type": "markdown",
   "id": "b79c86b82052caf1",
   "metadata": {},
   "source": [
    "## Importando bibliotecas"
   ]
  },
  {
   "cell_type": "code",
   "execution_count": null,
   "id": "cc7691a65d53079d",
   "metadata": {
    "collapsed": true
   },
   "outputs": [],
   "source": [
    "#     Importação das bibliotecas."
   ]
  },
  {
   "cell_type": "markdown",
   "id": "1ad3ca055f479c1e",
   "metadata": {},
   "source": [
    "## Carregamento dos Dados"
   ]
  },
  {
   "cell_type": "code",
   "execution_count": null,
   "id": "f59d6159b0ca0279",
   "metadata": {},
   "outputs": [],
   "source": [
    "#    Carregamento e descrição da base de dados."
   ]
  },
  {
   "cell_type": "markdown",
   "id": "6d9d77aa95cc594a",
   "metadata": {},
   "source": [
    "## Pré-processamento dos dados (se precisar)"
   ]
  },
  {
   "cell_type": "code",
   "execution_count": null,
   "id": "3f3b5ad87298db19",
   "metadata": {},
   "outputs": [],
   "source": [
    "# dados faltantes, transformação de dados categóricos em numéricos,\n",
    "# escalas diferentes, outliers, dados desbalanceados, dados duplicados ou inconsistentes, ..."
   ]
  },
  {
   "cell_type": "markdown",
   "id": "c300586fd72c861f",
   "metadata": {},
   "source": [
    "## Implementação dos algoritmos escolhidos"
   ]
  },
  {
   "cell_type": "code",
   "execution_count": null,
   "id": "739c61e727591b0f",
   "metadata": {},
   "outputs": [],
   "source": [
    "# Descrição dos Algoritmos"
   ]
  },
  {
   "cell_type": "markdown",
   "id": "6d8ac473d0631430",
   "metadata": {},
   "source": [
    "## 1º Algoritmo"
   ]
  },
  {
   "cell_type": "code",
   "execution_count": null,
   "id": "37d235f633bc4168",
   "metadata": {},
   "outputs": [],
   "source": [
    "# Implementação"
   ]
  },
  {
   "cell_type": "markdown",
   "id": "93994448e9657e11",
   "metadata": {},
   "source": [
    "## 2º Algorimo"
   ]
  },
  {
   "cell_type": "code",
   "execution_count": null,
   "id": "84f0ca97669f0c67",
   "metadata": {},
   "outputs": [],
   "source": [
    "# Implementação"
   ]
  },
  {
   "cell_type": "markdown",
   "id": "69c694b8a71c6f8f",
   "metadata": {},
   "source": [
    "# Avaliação dos Modelos com métricas e grafos"
   ]
  },
  {
   "cell_type": "code",
   "execution_count": null,
   "id": "3faadf3c36876ad6",
   "metadata": {},
   "outputs": [],
   "source": [
    "# Lembre-se de utilizar validação cruzada para divisão\n",
    "# do conjunto de dados e métricas adequadas ao problema de classificação."
   ]
  },
  {
   "cell_type": "markdown",
   "id": "8c8ccb0669181efc",
   "metadata": {},
   "source": [
    "# Discussão dos resultados"
   ]
  },
  {
   "cell_type": "code",
   "execution_count": null,
   "id": "22c09fdca13047fc",
   "metadata": {},
   "outputs": [],
   "source": [
    "# Discussão"
   ]
  },
  {
   "cell_type": "markdown",
   "id": "5ca6feec",
   "metadata": {},
   "source": [
    "## Metodologia\n",
    " \n",
    "Nesta seção, detalhamos o processo adotado para comparar algoritmos de classificação supervisionada, com foco em Regressão Logística (SGD) e k-Vizinhos Mais Próximos (k-NN). O objetivo é avaliar o desempenho dos modelos em um conjunto de dados real, utilizando validação rigorosa e métricas variadas.\n",
    " \n",
    "**Algoritmos utilizados:**\n",
    "- **Regressão Logística (SGDClassifier, loss='log_loss')**: Algoritmo linear, eficiente para grandes volumes de dados e robusto a ruídos. Utiliza gradiente descendente estocástico para otimização.\n",
    "- **k-Vizinhos Mais Próximos (k-NN)**: Algoritmo não paramétrico que considera a proximidade entre exemplos para realizar a classificação. Foram testados diferentes valores de *k* e métricas de distância para encontrar a melhor configuração.\n",
    " \n",
    "**Engenharia de atributos:**\n",
    "A partir das variáveis originais `Date` e `Time`, foram extraídos diversos atributos temporais: ano, mês, dia, dia da semana, dia do ano, hora, minuto, minutos desde meia-noite e indicador de fim de semana. O atributo `Count` foi mantido, e o alvo de classificação é o evento `Event` (binário: 0/1).\n",
    " \n",
    "**Validação e métricas:**\n",
    "Para garantir uma avaliação robusta, foi utilizada **validação cruzada k-fold (k=10)**, permitindo estimativas mais confiáveis do desempenho dos modelos. As métricas reportadas incluem:\n",
    "- **Acurácia**: Proporção de acertos totais.\n",
    "- **Precisão**: Proporção de positivos previstos que são realmente positivos.\n",
    "- **Sensibilidade (Recall)**: Proporção de positivos reais corretamente identificados.\n",
    "- **F1-score**: Média harmônica entre precisão e recall.\n",
    "- **ROC e AUC**: Curva ROC e área sob a curva, avaliando a capacidade de separação dos modelos.\n",
    " \n",
    "## Dados TODO Peres\n",
    " \n",
    "A descrição detalhada dos dados será incluída posteriormente."
   ]
  },
  {
   "cell_type": "markdown",
   "id": "604ff981",
   "metadata": {},
   "source": [
    "## Execução dos scripts\n",
    " \n",
    "- `sgd_logreg.py`: executa a análise com regressão logística (SGD)\n",
    "- `knn_model.py`: executa a análise com KNN (grid reduzido)\n",
    "- `test_models.py`: executa ambos e salva os resultados em JSON\n",
    "- `compare_plots.py`: gera gráficos comparativos (barras e ROC)\n",
    " \n",
    "Os dados gerados ficam em `data/`."
   ]
  },
  {
   "cell_type": "code",
   "execution_count": null,
   "id": "d4642177",
   "metadata": {},
   "outputs": [],
   "source": [
    "# Executa os scripts principais para treinar e avaliar os modelos\n",
    "%run python data/test_models.py\n",
    "%run python data/compare_plots.py"
   ]
  },
  {
   "cell_type": "code",
   "execution_count": null,
   "id": "38bba32d",
   "metadata": {},
   "outputs": [],
   "source": [
    "import json, pandas as pd\n",
    "from IPython.display import Image, display\n",
    "with open('data/sgd_results.json') as f: sgd=json.load(f)\n",
    "with open('data/knn_results.json') as f: knn=json.load(f)\n",
    "metrics=['accuracy','precision','recall','f1','roc_auc']\n",
    "df=pd.DataFrame({'SGD (Regressão logística)':[sgd['metrics_point_on_full'][m] for m in metrics], 'KNN':[knn['metrics_point_on_full'][m] for m in metrics]}, index=metrics)\n",
    "display(df.style.format('{:.4f}'))\n",
    "display(Image(filename='data/metrics_comparison.png'))\n",
    "display(Image(filename='data/roc_both.png'))"
   ]
  },
  {
   "cell_type": "code",
   "execution_count": null,
   "id": "7aae8a00",
   "metadata": {},
   "outputs": [],
   "source": [
    "# Carrega e exibe a comparação dos resultados dos modelos\n",
    "import json, pandas as pd\n",
    "from IPython.display import Image, display\n",
    "with open('data/sgd_results.json') as f: sgd=json.load(f)\n",
    "with open('data/knn_results.json') as f: knn=json.load(f)\n",
    "metrics=['accuracy','precision','recall','f1','roc_auc']\n",
    "df=pd.DataFrame({'SGD (Regressão logística)':[sgd['metrics_point_on_full'][m] for m in metrics], 'KNN':[knn['metrics_point_on_full'][m] for m in metrics]}, index=metrics)\n",
    "display(df.style.format('{:.4f}'))\n",
    "display(Image(filename='data/metrics_comparison.png'))\n",
    "display(Image(filename='data/roc_both.png'))"
   ]
  }
 ],
 "metadata": {
  "kernelspec": {
   "display_name": "Python 3",
   "language": "python",
   "name": "python3"
  },
  "language_info": {
   "codemirror_mode": {
    "name": "ipython",
    "version": 2
   },
   "file_extension": ".py",
   "mimetype": "text/x-python",
   "name": "python",
   "nbconvert_exporter": "python",
   "pygments_lexer": "ipython2",
   "version": "3.12.3"
  }
 },
 "nbformat": 4,
 "nbformat_minor": 5
}
