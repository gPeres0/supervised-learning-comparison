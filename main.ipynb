{
 "cells": [
  {
   "metadata": {},
   "cell_type": "markdown",
   "source": [
    "# Comparação de Algoritmos de Aprendizado Supervisionado em Problemas de Classificação\n",
    "\n",
    "- Gabriel Peres de Souza\n",
    "- João Carlos dos Santos Correia\n",
    "- Rodrigo Macedo Júnior"
   ],
   "id": "f378db07bb057f3a"
  },
  {
   "metadata": {},
   "cell_type": "markdown",
   "source": "## Importando bibliotecas",
   "id": "b79c86b82052caf1"
  },
  {
   "metadata": {
    "collapsed": true
   },
   "cell_type": "code",
   "outputs": [],
   "execution_count": null,
   "source": "#     Importação das bibliotecas.",
   "id": "cc7691a65d53079d"
  },
  {
   "metadata": {},
   "cell_type": "markdown",
   "source": "## Carregamento dos Dados",
   "id": "1ad3ca055f479c1e"
  },
  {
   "metadata": {},
   "cell_type": "code",
   "outputs": [],
   "execution_count": null,
   "source": "#    Carregamento e descrição da base de dados.",
   "id": "f59d6159b0ca0279"
  },
  {
   "metadata": {},
   "cell_type": "markdown",
   "source": "## Pré-processamento dos dados (se precisar)",
   "id": "6d9d77aa95cc594a"
  },
  {
   "metadata": {},
   "cell_type": "code",
   "outputs": [],
   "execution_count": null,
   "source": [
    "# dados faltantes, transformação de dados categóricos em numéricos,\n",
    "# escalas diferentes, outliers, dados desbalanceados, dados duplicados ou inconsistentes, ..."
   ],
   "id": "3f3b5ad87298db19"
  },
  {
   "metadata": {},
   "cell_type": "markdown",
   "source": "## Implementação dos algoritmos escolhidos",
   "id": "c300586fd72c861f"
  },
  {
   "metadata": {},
   "cell_type": "code",
   "outputs": [],
   "execution_count": null,
   "source": "# Descrição dos Algoritmos",
   "id": "739c61e727591b0f"
  },
  {
   "metadata": {},
   "cell_type": "markdown",
   "source": "## 1º Algoritmo",
   "id": "6d8ac473d0631430"
  },
  {
   "metadata": {},
   "cell_type": "code",
   "outputs": [],
   "execution_count": null,
   "source": "# Implementação",
   "id": "37d235f633bc4168"
  },
  {
   "metadata": {},
   "cell_type": "markdown",
   "source": "## 2º Algorimo",
   "id": "93994448e9657e11"
  },
  {
   "metadata": {},
   "cell_type": "code",
   "outputs": [],
   "execution_count": null,
   "source": "# Implementação",
   "id": "84f0ca97669f0c67"
  },
  {
   "metadata": {},
   "cell_type": "markdown",
   "source": "# Avaliação dos Modelos com métricas e grafos",
   "id": "69c694b8a71c6f8f"
  },
  {
   "metadata": {},
   "cell_type": "code",
   "outputs": [],
   "execution_count": null,
   "source": [
    "# Lembre-se de utilizar validação cruzada para divisão\n",
    "# do conjunto de dados e métricas adequadas ao problema de classificação."
   ],
   "id": "3faadf3c36876ad6"
  },
  {
   "metadata": {},
   "cell_type": "markdown",
   "source": "# Discussão dos resultados",
   "id": "8c8ccb0669181efc"
  },
  {
   "metadata": {},
   "cell_type": "code",
   "outputs": [],
   "execution_count": null,
   "source": "# Discussão",
   "id": "22c09fdca13047fc"
  }
 ],
 "metadata": {
  "kernelspec": {
   "display_name": "Python 3",
   "language": "python",
   "name": "python3"
  },
  "language_info": {
   "codemirror_mode": {
    "name": "ipython",
    "version": 2
   },
   "file_extension": ".py",
   "mimetype": "text/x-python",
   "name": "python",
   "nbconvert_exporter": "python",
   "pygments_lexer": "ipython2",
   "version": "2.7.6"
  }
 },
 "nbformat": 4,
 "nbformat_minor": 5
}
